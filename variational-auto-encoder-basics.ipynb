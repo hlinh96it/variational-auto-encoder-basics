{
 "cells": [
  {
   "cell_type": "code",
   "execution_count": 1,
   "id": "8debe38d-68b4-4eeb-b25a-d5eec218f068",
   "metadata": {
    "tags": []
   },
   "outputs": [],
   "source": [
    "import torch\n",
    "import numpy as np\n",
    "import torch.nn as nn\n",
    "import matplotlib.pyplot as plt\n",
    "from torchvision.datasets import MNIST\n",
    "from torch.utils.data import DataLoader\n",
    "import torchvision.transforms as transforms\n",
    "from mpl_toolkits.axes_grid1 import ImageGrid\n",
    "from torchvision.utils import save_image, make_grid"
   ]
  },
  {
   "cell_type": "code",
   "execution_count": 2,
   "id": "f51e33b7-5d96-45b1-a74e-308d65a3ab54",
   "metadata": {
    "tags": []
   },
   "outputs": [],
   "source": [
    "transform = transforms.Compose([transforms.ToTensor()])\n",
    "\n",
    "path = 'mnist-dataset/'\n",
    "train_dataset = MNIST(path, transform=transform, download=True, train=True)\n",
    "test_dataset = MNIST(path, transform=transform, download=True, train=False)\n",
    "\n",
    "batch_size = 128\n",
    "train_loader = DataLoader(train_dataset, batch_size=batch_size, shuffle=True)\n",
    "test_loader = DataLoader(test_dataset, batch_size=batch_size, shuffle=False)\n",
    "device = torch.device('mps:0')"
   ]
  },
  {
   "cell_type": "code",
   "execution_count": 3,
   "id": "87ffe97e-c5be-458a-8120-d9a62e205b35",
   "metadata": {
    "tags": []
   },
   "outputs": [
    {
     "data": {
      "image/png": "[encoded data removed]",
      "text/plain": [
       "<Figure size 1200x300 with 5 Axes>"
      ]
     },
     "metadata": {},
     "output_type": "display_data"
    }
   ],
   "source": [
    "num_samples = 5\n",
    "fig, axes = plt.subplots(1, num_samples, figsize=(12, 3))\n",
    "\n",
    "for i, (image, label) in enumerate(train_loader):\n",
    "    if i == num_samples:\n",
    "        break\n",
    "    axes[i].imshow(image[0][0], cmap='gray')  # Displaying the first image in each batch\n",
    "    axes[i].set_title(f\"Label: {label[0]}\")\n",
    "    axes[i].axis('off')\n",
    "\n",
    "plt.tight_layout()\n",
    "plt.show()"
   ]
  },
  {
   "cell_type": "markdown",
   "id": "ef63da65-517a-4cba-8d8c-ba2596a95c92",
   "metadata": {},
   "source": [
    "### Build VAE class\n",
    "---"
   ]
  },
  {
   "cell_type": "code",
   "execution_count": 5,
   "id": "d136bb7e-cac1-4450-bf06-7db1f0ca489c",
   "metadata": {
    "tags": []
   },
   "outputs": [],
   "source": [
    "class VariationalAE(nn.Module):\n",
    "    def __init__(self, input_dim: int=28*28, hidden_dim: int=400, latent_dim: int=200, device=torch.device('mps')):\n",
    "        super(VariationalAE, self).__init__()\n",
    "        \n",
    "        self.encoder = nn.Sequential(\n",
    "            nn.Linear(input_dim, hidden_dim), nn.LeakyReLU(0.2), nn.Linear(hidden_dim, latent_dim), nn.LeakyReLU(0.2)\n",
    "        )\n",
    "        self.mean_layer = nn.Linear(latent_dim, 2)\n",
    "        self.logvar_layer = nn.Linear(latent_dim, 2)\n",
    "        \n",
    "        self.decoder = nn.Sequential(\n",
    "            nn.Linear(2, latent_dim), nn.LeakyReLU(0.2), nn.Linear(latent_dim, hidden_dim), nn.LeakyReLU(0.2),\n",
    "            nn.Linear(hidden_dim, input_dim), nn.Sigmoid()\n",
    "        )\n",
    "        \n",
    "    def forwar(self, x):\n",
    "        mean, logvar = self.encode(x)\n",
    "        z = self.reparameterization(mean, logvar)\n",
    "        x_hat = self.decoder(x)\n",
    "        return x_hat, mean, logvar\n",
    "        \n",
    "    def encode(self, x):\n",
    "        x = self.encoder(x)\n",
    "        mean, logvar = self.mean_layer(x), self.logvar_layer(x)\n",
    "        return mean, logvar\n",
    "    \n",
    "    def reparameterization(self, mean, logvar):\n",
    "        epsilon = torch.randn_like(logvar).to(device)\n",
    "        return mean + logvar * epsilon"
   ]
  },
  {
   "cell_type": "code",
   "execution_count": null,
   "metadata": {},
   "outputs": [],
   "source": [
    "def loss_function(x, x_hat, mean, logvar):\n",
    "    reproduction_loss = nn.functional.binary_cross_entropy(x_hat, x, reduction='sum')\n",
    "    kld = -0.5 * torch.sum(1 + logvar - mean.pow(2) - logvar.exp())\n",
    "    return reproduction_loss + kld\n",
    "\n",
    "def train(model: nn.Module, optimizer: torch.optim.Optimizer, epochs: int, device: torch.device,\n",
    "          train_loader: DataLoader):\n",
    "    model.train()\n",
    "    for epoch in range(epochs):\n",
    "        overall_loss = 0\n",
    "        for batch_idx, (x, _) in enumerate(train_loader):\n",
    "            print()\n",
    "            x = x.view(batch_size, x).to(device)"
   ]
  },
  {
   "cell_type": "code",
   "execution_count": null,
   "id": "720c6821-ffae-4c34-8618-b99336e3cdd8",
   "metadata": {},
   "outputs": [],
   "source": [
    "\n",
    "\n",
    "\n",
    "vae_model = VariationalAE(input_dim=28*28, hidden_dim=400, latent_dim=200)\n",
    "optimizer = torch.optim.Adam(params=vae_model.parameters(), lr=1e-3)\n"
   ]
  }
 ],
 "metadata": {
  "kernelspec": {
   "display_name": "Python 3 (ipykernel)",
   "language": "python",
   "name": "python3"
  },
  "language_info": {
   "codemirror_mode": {
    "name": "ipython",
    "version": 3
   },
   "file_extension": ".py",
   "mimetype": "text/x-python",
   "name": "python",
   "nbconvert_exporter": "python",
   "pygments_lexer": "ipython3",
   "version": "3.9.18"
  }
 },
 "nbformat": 4,
 "nbformat_minor": 5
}
